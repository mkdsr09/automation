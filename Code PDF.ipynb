{
 "cells": [
  {
   "cell_type": "markdown",
   "id": "4537cdbe-5c0f-42fa-b19d-9ae868c9f18c",
   "metadata": {},
   "source": [
    "---\n",
    "\n",
    "# **Importing of Libraries**\n",
    "\n",
    "- In this section, we will import all the essential libraries that will be used to perform operations on PDF.\n",
    "\n",
    "---"
   ]
  },
  {
   "cell_type": "code",
   "execution_count": 1,
   "id": "f8438fdc-1b9d-4d4e-838b-8cd5a9c267fa",
   "metadata": {},
   "outputs": [],
   "source": [
    " import PyPDF2"
   ]
  },
  {
   "cell_type": "markdown",
   "id": "bcf4ffb6-0160-4e51-968f-a9fd481c10a3",
   "metadata": {},
   "source": [
    "---\n",
    "\n",
    "# Extracting Text from PDFs\n",
    "\n",
    "- In this section, we will read all the text from a PDF.\n",
    "\n",
    "---"
   ]
  },
  {
   "cell_type": "code",
   "execution_count": 23,
   "id": "876726c5-d831-4ca6-bfb0-d52750e08661",
   "metadata": {},
   "outputs": [
    {
     "name": "stdout",
     "output_type": "stream",
     "text": [
      "Total Pages: 2\n",
      " Simple PDF File 2  ...continued from page 1. Yet more text. And more text. And more text.  And more text. And more text. And more text. And more text. And more  text. Oh, how boring typing this stuff. But not as boring as watching  paint dry. And more text. And more text. And more text. And more text.  Boring.  More, a little more text. The end, and just as well. \n"
     ]
    }
   ],
   "source": [
    "pdfFileObj = open('sample.pdf', 'rb')\n",
    "pdfReader = PyPDF2.PdfFileReader(pdfFileObj)\n",
    "print('Total Pages:', pdfReader.numPages)\n",
    "\n",
    "pageObj = pdfReader.getPage(pageNumber=1)\n",
    "print(pageObj.extractText())\n",
    "\n",
    "pdfFileObj.close()"
   ]
  },
  {
   "cell_type": "code",
   "execution_count": 19,
   "id": "e3ed83b4-0853-487a-907e-39bf4163d6aa",
   "metadata": {},
   "outputs": [],
   "source": []
  },
  {
   "cell_type": "code",
   "execution_count": null,
   "id": "96978890-120a-4b61-ae18-226ab90bc9f9",
   "metadata": {},
   "outputs": [],
   "source": []
  }
 ],
 "metadata": {
  "kernelspec": {
   "display_name": "Python 3 (ipykernel)",
   "language": "python",
   "name": "python3"
  },
  "language_info": {
   "codemirror_mode": {
    "name": "ipython",
    "version": 3
   },
   "file_extension": ".py",
   "mimetype": "text/x-python",
   "name": "python",
   "nbconvert_exporter": "python",
   "pygments_lexer": "ipython3",
   "version": "3.9.6"
  }
 },
 "nbformat": 4,
 "nbformat_minor": 5
}
